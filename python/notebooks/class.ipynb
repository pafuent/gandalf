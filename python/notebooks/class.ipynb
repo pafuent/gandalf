{
 "cells": [
  {
   "cell_type": "markdown",
   "metadata": {},
   "source": [
    "###Built-in type()\n",
    "\n",
    "With three arguments, return a new type object. This is essentially a dynamic form of the class statement. The name string is the class name and becomes the **__name__** attribute; the bases tuple itemizes the base classes and becomes the **__bases__** attribute; and the dict dictionary is the namespace containing definitions for class body and becomes the **__dict__** attribute."
   ]
  },
  {
   "cell_type": "code",
   "execution_count": 3,
   "metadata": {
    "collapsed": false
   },
   "outputs": [
    {
     "name": "stdout",
     "output_type": "stream",
     "text": [
      "<__main__.Builder object at 0x7f8258193a50>\n",
      "42\n",
      "-----\n",
      "<class '__main__.Builder_69'>\n",
      "69\n",
      "-----\n",
      "<__main__.Builder_69 object at 0x7f8258193550>\n",
      "69\n"
     ]
    }
   ],
   "source": [
    "class Builder(object):\n",
    "    SOMETHING = 42\n",
    "    \n",
    "    @staticmethod\n",
    "    def build(something):\n",
    "        return type(\"Builder_{0}\".format(something), (Builder,), {\"SOMETHING\": something})\n",
    "    \n",
    "\n",
    "bbb = Builder()\n",
    "print bbb\n",
    "print bbb.SOMETHING\n",
    "\n",
    "print \"-----\"\n",
    "ccc = Builder.build(69)\n",
    "# ccc is a class\n",
    "print ccc\n",
    "print ccc.SOMETHING\n",
    "\n",
    "print \"-----\"\n",
    "ddd = ccc()\n",
    "print ddd\n",
    "print ddd.SOMETHING\n"
   ]
  }
 ],
 "metadata": {
  "kernelspec": {
   "display_name": "Python 2",
   "language": "python",
   "name": "python2"
  },
  "language_info": {
   "codemirror_mode": {
    "name": "ipython",
    "version": 2
   },
   "file_extension": ".py",
   "mimetype": "text/x-python",
   "name": "python",
   "nbconvert_exporter": "python",
   "pygments_lexer": "ipython2",
   "version": "2.7.6"
  }
 },
 "nbformat": 4,
 "nbformat_minor": 0
}
